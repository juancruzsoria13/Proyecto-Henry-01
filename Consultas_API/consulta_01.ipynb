{
 "cells": [
  {
   "cell_type": "code",
   "execution_count": 3,
   "metadata": {},
   "outputs": [],
   "source": [
    "import pandas as pd\n",
    "from fastapi import APIRouter"
   ]
  },
  {
   "cell_type": "code",
   "execution_count": 4,
   "metadata": {},
   "outputs": [],
   "source": [
    "df= pd.read_parquet(r\"C:\\Users\\juanc.DESKTOP-LGMDQP1\\OneDrive\\Documentos\\Proyecto Henry 01\\Datos Limpios\\output_games_clean.parquet\")"
   ]
  },
  {
   "cell_type": "code",
   "execution_count": 4,
   "metadata": {},
   "outputs": [],
   "source": [
    "def desarrollador(developer:str):\n",
    "    filtro_developer= df[df[\"developer\"] == developer]\n",
    "    cantidad_items=filtro_developer[\"id\"].count()\n",
    "    free_por_año= filtro_developer.groupby(\"release_date\").agg({\n",
    "        \"id\": \"count\",\n",
    "        'price': lambda x: ((x == 0.00).mean() * 100)\n",
    "        \n",
    "    }).reset_index()\n",
    "    free_por_año.rename(columns={\"id\":\"cantidad_items\"},inplace=True)\n",
    "    free_por_año.rename(columns={\"price\":\"contenido_free\"},inplace=True)\n",
    "    free_por_año.rename(columns={\"release_date\":\"año\"},inplace=True)\n",
    "    free_por_año[[\"año\",\"cantidad_items\",\"contenido_free\"]]\n",
    "    free_por_año[\"contenido_free\"]=free_por_año[\"contenido_free\"].astype(str) + \"%\"\n",
    "    \n",
    "    return free_por_año"
   ]
  },
  {
   "cell_type": "code",
   "execution_count": 5,
   "metadata": {},
   "outputs": [
    {
     "data": {
      "text/html": [
       "<div>\n",
       "<style scoped>\n",
       "    .dataframe tbody tr th:only-of-type {\n",
       "        vertical-align: middle;\n",
       "    }\n",
       "\n",
       "    .dataframe tbody tr th {\n",
       "        vertical-align: top;\n",
       "    }\n",
       "\n",
       "    .dataframe thead th {\n",
       "        text-align: right;\n",
       "    }\n",
       "</style>\n",
       "<table border=\"1\" class=\"dataframe\">\n",
       "  <thead>\n",
       "    <tr style=\"text-align: right;\">\n",
       "      <th></th>\n",
       "      <th>año</th>\n",
       "      <th>cantidad_items</th>\n",
       "      <th>contenido_free</th>\n",
       "    </tr>\n",
       "  </thead>\n",
       "  <tbody>\n",
       "    <tr>\n",
       "      <th>0</th>\n",
       "      <td>2018</td>\n",
       "      <td>1</td>\n",
       "      <td>100.0%</td>\n",
       "    </tr>\n",
       "  </tbody>\n",
       "</table>\n",
       "</div>"
      ],
      "text/plain": [
       "    año  cantidad_items contenido_free\n",
       "0  2018               1         100.0%"
      ]
     },
     "execution_count": 5,
     "metadata": {},
     "output_type": "execute_result"
    }
   ],
   "source": [
    "desarrollador(\"Secret Level SRL\")"
   ]
  }
 ],
 "metadata": {
  "kernelspec": {
   "display_name": "Python 3",
   "language": "python",
   "name": "python3"
  },
  "language_info": {
   "codemirror_mode": {
    "name": "ipython",
    "version": 3
   },
   "file_extension": ".py",
   "mimetype": "text/x-python",
   "name": "python",
   "nbconvert_exporter": "python",
   "pygments_lexer": "ipython3",
   "version": "3.11.9"
  }
 },
 "nbformat": 4,
 "nbformat_minor": 2
}
